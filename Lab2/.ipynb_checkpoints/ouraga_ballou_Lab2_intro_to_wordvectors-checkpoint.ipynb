{
 "cells": [
  {
   "cell_type": "markdown",
   "metadata": {
    "id": "0Rgs1M4rqlrD"
   },
   "source": [
    "\n",
    "<h1 style=\"font-family:verdana;font-size:300%;text-align:center;background-color:#f2f2f2;color:#0d0d0d\">AMMI_2024_NLP - Week 1</h1>\n",
    "\n",
    "<h1 style=\"font-family:verdana;font-size:180%;text-align:Center;color:#993333\"> Lab 2: Introduction to wordvectors </h1>\n",
    "\n",
    "\n",
    "Before we start, please change the name of the notebook to the following format : **Firstname_LASTNAME_Lab2_intro_to_wordvectors.ipynb**\n",
    "\n",
    "\n",
    "In some cells and files you will see code blocks that look like this:\n",
    "\n",
    "```python\n",
    "##############################################################################\n",
    "#                    TODO: Write the equation for a line                     #\n",
    "##############################################################################\n",
    "pass\n",
    "##############################################################################\n",
    "#                              END OF YOUR CODE                              #\n",
    "##############################################################################\n",
    "```\n",
    "\n",
    "You should replace the `pass` statement with your own code and leave the blocks intact, like this:\n",
    "\n",
    "```python\n",
    "##############################################################################\n",
    "#                    TODO: Write the equation for a line                     #\n",
    "##############################################################################\n",
    "y = m * x + b\n",
    "##############################################################################\n",
    "#                              END OF YOUR CODE                              #\n",
    "##############################################################################\n",
    "```"
   ]
  },
  {
   "cell_type": "code",
   "execution_count": 2,
   "metadata": {
    "id": "YOGqnZgdqlrG"
   },
   "outputs": [],
   "source": [
    "import io, sys\n",
    "import numpy as np"
   ]
  },
  {
   "cell_type": "code",
   "execution_count": 3,
   "metadata": {
    "colab": {
     "base_uri": "https://localhost:8080/"
    },
    "id": "iCayPFWFvP0j",
    "outputId": "fcc8be92-a1b9-4688-85fc-fc69eb3da166"
   },
   "outputs": [],
   "source": [
    "# from google.colab import drive\n",
    "# drive.mount(\"drive\")"
   ]
  },
  {
   "cell_type": "code",
   "execution_count": 4,
   "metadata": {
    "colab": {
     "base_uri": "https://localhost:8080/"
    },
    "id": "f8yRjEnivznF",
    "outputId": "6aae2935-92ea-4457-a4d7-1cbcc7c62dba"
   },
   "outputs": [],
   "source": [
    "# ls drive"
   ]
  },
  {
   "cell_type": "code",
   "execution_count": 5,
   "metadata": {
    "id": "KYNmfcLwqlrG"
   },
   "outputs": [],
   "source": [
    "\n",
    "def load_vectors(filename):\n",
    "    fin = io.open(filename, 'r', encoding='utf-8', newline='\\n')\n",
    "    n, d = map(int, fin.readline().split())\n",
    "    data = {}\n",
    "    for line in fin:\n",
    "        tokens = line.rstrip().split(' ')\n",
    "        data[tokens[0]] = np.asarray([float(x) for x in tokens[1:]])\n",
    "    return data"
   ]
  },
  {
   "cell_type": "code",
   "execution_count": 6,
   "metadata": {
    "colab": {
     "base_uri": "https://localhost:8080/"
    },
    "id": "BwcnbIq-qlrH",
    "outputId": "ee85473f-27d7-499c-9117-949c02bbdf3b"
   },
   "outputs": [
    {
     "name": "stdout",
     "output_type": "stream",
     "text": [
      "\n",
      " ** Word vectors ** \n",
      "\n",
      "<class 'numpy.ndarray'> 300\n"
     ]
    }
   ],
   "source": [
    "# Loading word vectors\n",
    "\n",
    "print('')\n",
    "print(' ** Word vectors ** ')\n",
    "print('')\n",
    "\n",
    "'''\n",
    "word_vectors is a dictionary that maps words to their numerical word vector\n",
    "[word (string)] = [np-array]\n",
    "'''\n",
    "word_vectors = load_vectors('wiki.en.vec')\n",
    "\n",
    "tree_vector = word_vectors['tree']\n",
    "print(type(tree_vector), len(tree_vector))"
   ]
  },
  {
   "cell_type": "code",
   "execution_count": 7,
   "metadata": {
    "id": "efLgsKdFqlrH"
   },
   "outputs": [],
   "source": [
    "## This function computes the cosine similarity between vectors u and v\n",
    "\n",
    "def cosine(u, v):\n",
    "    '''\n",
    "    Parameters:\n",
    "    u : 1-D numpy array\n",
    "    v : 1-D numpy array\n",
    "\n",
    "    Returns:\n",
    "    cos (float) : value of the cosine similairy between vectors u, v\n",
    "    '''\n",
    "    ##########################################################################\n",
    "    #                      TODO: Implement this function                     #\n",
    "    ##########################################################################\n",
    "    # Replace \"pass\" statement with your code\n",
    "    cos = (u.T @ v) / (np.linalg.norm(u) * np.linalg.norm(v))\n",
    "    ##########################################################################\n",
    "    #                            END OF YOUR CODE                            #\n",
    "    ##########################################################################\n",
    "    return cos"
   ]
  },
  {
   "cell_type": "code",
   "execution_count": 8,
   "metadata": {},
   "outputs": [
    {
     "name": "stdout",
     "output_type": "stream",
     "text": [
      "test similarity 1.0\n",
      "similarity(apple, apples) = 0.637\n",
      "similarity(apple, banana) = 0.431\n",
      "similarity(apple, tiger) = 0.212\n"
     ]
    }
   ],
   "source": [
    "# compute similarity between words\n",
    "print (f\"test similarity {cosine(np.array([1,0,0]),np.array([1,0,0]))}\", )\n",
    "print('similarity(apple, apples) = %.3f' %\n",
    "      cosine(word_vectors['apple'], word_vectors['apples']))\n",
    "print('similarity(apple, banana) = %.3f' %\n",
    "      cosine(word_vectors['apple'], word_vectors['banana']))\n",
    "print('similarity(apple, tiger) = %.3f' %\n",
    "      cosine(word_vectors['apple'], word_vectors['tiger']))"
   ]
  },
  {
   "cell_type": "code",
   "execution_count": 9,
   "metadata": {
    "id": "EZ4cNIfrqlrI"
   },
   "outputs": [],
   "source": [
    "## Functions for nearest neighbor\n",
    "## This function returns the word corresponding to\n",
    "## nearest neighbor vector of x\n",
    "## The list exclude_words can be used to exclude some\n",
    "## words from the nearest neighbors search\n",
    "\n",
    "def nearest_neighbor(x, word_vectors, exclude_words=[]):\n",
    "    '''\n",
    "    Parameters:\n",
    "    x (string): word to find its nearest neighbour\n",
    "    word_vectors (Python dict): {word (string): np-array of word vector}\n",
    "    exclude_words (list of strings): words to be excluded from the search\n",
    "\n",
    "    Returns:\n",
    "    best_word (string) : the word whose word vector is the nearest neighbour\n",
    "    to the word vector of x\n",
    "    '''\n",
    "    best_score = -1.0\n",
    "    best_word = None\n",
    "    ##########################################################################\n",
    "    #                      TODO: Implement this function                     #\n",
    "    ##########################################################################\n",
    "    # Replace \"pass\" statement with your code\n",
    "    list_word = []\n",
    "    for word in  word_vectors.keys():\n",
    "        if abs(len(x)-len(word))==1 or abs(len(x)-len(word))==0:\n",
    "            r = min(len(x), len(word))\n",
    "            if word == x or word[0:r]==x[0:r]:\n",
    "                exclude_words.append(word)\n",
    "            else:\n",
    "                list_word.append(word)\n",
    "        else:\n",
    "            list_word.append(word)\n",
    "        \n",
    "    u = word_vectors[x]\n",
    "    for word in  list_word:\n",
    "        v = word_vectors[word]\n",
    "        cos = cosine(u, v)\n",
    "\n",
    "        if best_score < cos:\n",
    "            best_score = cos\n",
    "            best_word = word\n",
    "    ##########################################################################\n",
    "    #                            END OF YOUR CODE                            #\n",
    "    ##########################################################################\n",
    "    print(f'Exclude_words = {exclude_words}')\n",
    "    return best_word"
   ]
  },
  {
   "cell_type": "code",
   "execution_count": 10,
   "metadata": {},
   "outputs": [
    {
     "name": "stdout",
     "output_type": "stream",
     "text": [
      "\n",
      "Exclude_words = ['cat', 'cats', 'ca', 'cat', 'cats']\n",
      "The nearest neighbor of cat is: dog\n"
     ]
    }
   ],
   "source": [
    "print('')\n",
    "print('The nearest neighbor of cat is: ' +\n",
    "      nearest_neighbor('cat', word_vectors, exclude_words = ['cat', 'cats']))"
   ]
  },
  {
   "cell_type": "markdown",
   "metadata": {
    "id": "yvfo4Gl_qlrI"
   },
   "source": [
    "#### Hint (using python priorty queues with the heapq datastructure):\n",
    "if you don't want to store all the words and scores you can use the priortiy queue and only store the best K element so far."
   ]
  },
  {
   "cell_type": "code",
   "execution_count": 12,
   "metadata": {
    "id": "AFCxLz5AqlrI"
   },
   "outputs": [],
   "source": [
    "## This function return the words corresponding to the\n",
    "## K nearest neighbors of vector x.\n",
    "## You can use the functions heappush and heappop.\n",
    "import heapq\n",
    "def knn(x, vectors, k):\n",
    "    '''\n",
    "    Parameters:\n",
    "    x (string): word to find its nearest neighbour\n",
    "    word_vectors (Python dict): {word (string): np-array of word vector}\n",
    "    k (int): number of nearest neighbours to be found\n",
    "\n",
    "    Returns:\n",
    "    k_nearest_neighbors (list of tuples): [(score, word), (score, word), ....]\n",
    "    '''\n",
    "\n",
    "    k_nearest_neighbors = None\n",
    "    ##########################################################################\n",
    "    #                      TODO: Implement this function                     #\n",
    "    ##########################################################################\n",
    "    # Replace \"pass\" statement with your code\n",
    "    list_word = []\n",
    "    exclude_words = []\n",
    "    list_neighbors = []\n",
    "    for word in  vectors.keys():\n",
    "        if word == x:\n",
    "            exclude_words.append(word)\n",
    "        else:\n",
    "            list_word.append(word)\n",
    "\n",
    "    u = vectors[x]\n",
    "    for word in list_word:\n",
    "        v = vectors[word]\n",
    "        cos = cosine(u, v)\n",
    "        list_neighbors.append((cos, word))\n",
    "\n",
    "    list_neighbors = sorted(list_neighbors, key=lambda x: x[0])[::-1]\n",
    "    k_nearest_neighbors =  list_neighbors[:k]\n",
    "    ##########################################################################\n",
    "    #                            END OF YOUR CODE                            #\n",
    "    ##########################################################################\n",
    "    return k_nearest_neighbors"
   ]
  },
  {
   "cell_type": "code",
   "execution_count": 13,
   "metadata": {},
   "outputs": [
    {
     "name": "stdout",
     "output_type": "stream",
     "text": [
      "\n",
      "cat\n",
      "--------------\n",
      "cats\t0.732\n",
      "dog\t0.638\n",
      "pet\t0.573\n",
      "rabbit\t0.549\n",
      "dogs\t0.538\n"
     ]
    }
   ],
   "source": [
    "knn_cat = knn('cat', word_vectors, 5)\n",
    "print('')\n",
    "print('cat')\n",
    "print('--------------')\n",
    "for score, word in knn('cat', word_vectors, 5):\n",
    "    print (word + '\\t%.3f' % score)"
   ]
  },
  {
   "cell_type": "code",
   "execution_count": null,
   "metadata": {},
   "outputs": [],
   "source": []
  },
  {
   "cell_type": "markdown",
   "metadata": {
    "id": "e9Z6u7BjqlrJ"
   },
   "source": [
    "#### Hint:\n",
    "To find the analogies, we find the nearest neighbour associated with the wordvector d\n",
    "$$ d = \\frac{c}{\\Vert {c} \\Vert} + \\frac{b}{\\Vert {b} \\Vert} - \\frac{a}{\\Vert {a} \\Vert}$$\n"
   ]
  },
  {
   "cell_type": "code",
   "execution_count": 15,
   "metadata": {
    "id": "vd1Odd9cqlrJ"
   },
   "outputs": [],
   "source": [
    "## This function return the words d, such that a:b and c:d\n",
    "## verifies the same relation\n",
    "\n",
    "def analogy(a, b, c, word_vectors):\n",
    "    '''\n",
    "    Parameters:\n",
    "    a (string): word a\n",
    "    b (string): word b\n",
    "    c (string): word c\n",
    "    word_vectors (Python dict): {word (string): np-array of word vector}\n",
    "\n",
    "    Returnrs:\n",
    "    the word d (string) associated with c such that c:d is similar to a:b\n",
    "\n",
    "    '''\n",
    "    ##########################################################################\n",
    "    #                      TODO: Implement this function                     #\n",
    "    ##########################################################################\n",
    "    # Replace \"pass\" statement with your code\n",
    "    best_score = -1.0\n",
    "    best_word = None\n",
    "    \n",
    "    d = ( word_vectors[c] / np.linalg.norm(word_vectors[c]) ) + ( word_vectors[b] / np.linalg.norm(word_vectors[b]) ) - ( word_vectors[a] / np.linalg.norm(word_vectors[a]) )\n",
    "    for word in  word_vectors.keys():\n",
    "        v = word_vectors[word]\n",
    "        cos = cosine(d, v)\n",
    "\n",
    "        if best_score < cos:\n",
    "            best_score = cos\n",
    "            best_word = word\n",
    "    ##########################################################################\n",
    "    #                            END OF YOUR CODE                            #\n",
    "    ##########################################################################\n",
    "    return best_word"
   ]
  },
  {
   "cell_type": "code",
   "execution_count": 16,
   "metadata": {},
   "outputs": [
    {
     "name": "stdout",
     "output_type": "stream",
     "text": [
      "\n",
      "france - paris + rome = italy\n"
     ]
    }
   ],
   "source": [
    "# Word analogies\n",
    "print('')\n",
    "print('france - paris + rome = ' + analogy('paris', 'france', 'rome', word_vectors))"
   ]
  },
  {
   "cell_type": "code",
   "execution_count": null,
   "metadata": {},
   "outputs": [],
   "source": []
  },
  {
   "cell_type": "markdown",
   "metadata": {
    "id": "nWgBv-DYqlrJ"
   },
   "source": [
    "## A word about biases in word vectors"
   ]
  },
  {
   "cell_type": "code",
   "execution_count": 18,
   "metadata": {
    "colab": {
     "base_uri": "https://localhost:8080/"
    },
    "id": "rIJWZIKPqlrJ",
    "outputId": "fb072fad-5efe-4a27-fc03-c08bf4ece010"
   },
   "outputs": [
    {
     "name": "stdout",
     "output_type": "stream",
     "text": [
      "\n",
      "similarity(genius, man) = 0.445\n",
      "similarity(genius, woman) = 0.325\n"
     ]
    }
   ],
   "source": [
    "## A word about biases in word vectors:\n",
    "print('')\n",
    "print('similarity(genius, man) = %.3f' %\n",
    "      cosine(word_vectors['man'], word_vectors['genius']))\n",
    "print('similarity(genius, woman) = %.3f' %\n",
    "      cosine(word_vectors['woman'], word_vectors['genius']))"
   ]
  },
  {
   "cell_type": "code",
   "execution_count": 19,
   "metadata": {
    "id": "D08bHSR-qlrK"
   },
   "outputs": [],
   "source": [
    "## Compute the association strength between:\n",
    "##   - a word w\n",
    "##   - two sets of attributes A and B\n",
    "\n",
    "def association_strength(w, A, B, vectors):\n",
    "    '''\n",
    "    Parameters:\n",
    "    w (string): word w\n",
    "    A (list of strings): The words belonging to set A\n",
    "    B (list of strings): The words belonging to set B\n",
    "    vectors (Python dict): {word (string): np-array of word vector}\n",
    "\n",
    "    Returnrs:\n",
    "    strength (float): the value of the association strength\n",
    "    '''\n",
    "    strength = 0.0\n",
    "    part_a = 0.0\n",
    "    part_b = 0.0\n",
    "    ##########################################################################\n",
    "    #                      TODO: Implement this function                     #\n",
    "    ##########################################################################\n",
    "    # Replace \"pass\" statement with your code\n",
    "    L_A = [cosine(vectors[w], vectors[word]) for word in A]\n",
    "    L_B = [cosine(vectors[w], vectors[word]) for word in B]\n",
    "\n",
    "    strength = np.mean(L_A) - np.mean(L_B)\n",
    "    ##########################################################################\n",
    "    #                            END OF YOUR CODE                            #\n",
    "    ##########################################################################\n",
    "    return strength"
   ]
  },
  {
   "cell_type": "code",
   "execution_count": 20,
   "metadata": {
    "id": "pQ4wfIj_qlrK"
   },
   "outputs": [],
   "source": [
    "## Perform the word embedding association test between:\n",
    "##   - two sets of words X and Y\n",
    "##   - two sets of attributes A and B\n",
    "\n",
    "def weat(X, Y, A, B, vectors):\n",
    "    '''\n",
    "    Parameters:\n",
    "    X (list of strings): The words belonging to set X\n",
    "    Y (list of strings): The words belonging to set Y\n",
    "    A (list of strings): The words belonging to set A\n",
    "    B (list of strings): The words belonging to set B\n",
    "    vectors (Python dict): {word (string): np-array of word vector}\n",
    "\n",
    "    Returns:\n",
    "    score (float): the value of the group association strength\n",
    "    '''\n",
    "\n",
    "    score = 0.0\n",
    "    ##########################################################################\n",
    "    #                      TODO: Implement this function                     #\n",
    "    ##########################################################################\n",
    "    # Replace \"pass\" statement with your code\n",
    "    Asso_stren_X = [association_strength(w, A, B, vectors) for w in X]\n",
    "    Asso_stren_Y = [association_strength(w, A, B, vectors) for w in Y]\n",
    "\n",
    "    score = sum(Asso_stren_X) - sum(Asso_stren_Y)\n",
    "    ##########################################################################\n",
    "    #                            END OF YOUR CODE                            #\n",
    "    ##########################################################################\n",
    "    return score"
   ]
  },
  {
   "cell_type": "code",
   "execution_count": 21,
   "metadata": {},
   "outputs": [
    {
     "name": "stdout",
     "output_type": "stream",
     "text": [
      "\n",
      "Word embedding association test: 0.847\n"
     ]
    }
   ],
   "source": [
    "## Replicate one of the experiments from:\n",
    "##\n",
    "## Semantics derived automatically from language corpora contain human-like biases\n",
    "## Caliskan, Bryson, Narayanan (2017)\n",
    "\n",
    "career = ['executive', 'management', 'professional', 'corporation',\n",
    "          'salary', 'office', 'business', 'career']\n",
    "family = ['home', 'parents', 'children', 'family',\n",
    "          'cousins', 'marriage', 'wedding', 'relatives']\n",
    "male = ['john', 'paul', 'mike', 'kevin', 'steve', 'greg', 'jeff', 'bill']\n",
    "female = ['amy', 'joan', 'lisa', 'sarah', 'diana', 'kate', 'ann', 'donna']\n",
    "\n",
    "print('')\n",
    "print('Word embedding association test: %.3f' %\n",
    "      weat(career, family, male, female, word_vectors))"
   ]
  },
  {
   "cell_type": "code",
   "execution_count": null,
   "metadata": {},
   "outputs": [],
   "source": []
  },
  {
   "cell_type": "code",
   "execution_count": null,
   "metadata": {},
   "outputs": [],
   "source": []
  },
  {
   "cell_type": "markdown",
   "metadata": {
    "id": "g_3eQrt9qlrK"
   },
   "source": [
    "## Word translation using word vectors\n",
    "\n",
    "In the following, we will use word vectors in English and French to translate words from English to French. The idea is to learn a linear function that maps English word vectors to their correponding French word vectors. To learn this linear mapping, we will use a small bilingual lexicon, that contains pairs of words in English and French that are translations of each other.\n",
    "\n",
    "The following function will load the small English-French bilingual lexicon:"
   ]
  },
  {
   "cell_type": "code",
   "execution_count": 23,
   "metadata": {
    "id": "M-FaKBoNqlrL"
   },
   "outputs": [],
   "source": [
    "def load_lexicon(filename):\n",
    "    '''\n",
    "    Parameters:\n",
    "    filename(string): the path of the lexicon\n",
    "\n",
    "    Returns:\n",
    "    data(list of pairs of string): the bilingual lexicon\n",
    "    '''\n",
    "    fin = io.open(filename, 'r', encoding='utf-8', newline='\\n')\n",
    "    data = []\n",
    "    for line in fin:\n",
    "        a, b = line.rstrip().split(' ')\n",
    "        data.append((a, b))\n",
    "    return data"
   ]
  },
  {
   "cell_type": "code",
   "execution_count": 24,
   "metadata": {
    "colab": {
     "base_uri": "https://localhost:8080/"
    },
    "id": "Pp6K3PzJqlrL",
    "outputId": "3e27c09b-b20b-4142-df37-a00faf7374cc"
   },
   "outputs": [
    {
     "name": "stdout",
     "output_type": "stream",
     "text": [
      "[('the', 'le'), ('the', 'les'), ('the', 'la'), ('and', 'et'), ('was', 'fut'), ('was', 'était'), ('for', 'pour'), ('that', 'que')]\n"
     ]
    }
   ],
   "source": [
    "word_vectors_en = load_vectors('wiki.en.vec')\n",
    "word_vectors_fr = load_vectors('wiki.fr.vec')\n",
    "lexicon = load_lexicon(\"lexicon-en-fr.txt\")\n",
    "print(lexicon[:8])"
   ]
  },
  {
   "cell_type": "code",
   "execution_count": 25,
   "metadata": {
    "id": "p-yBNzQ8qlrL"
   },
   "outputs": [],
   "source": [
    "# We split the lexicon into a train and validation set\n",
    "train = lexicon[:5000]\n",
    "valid = lexicon[5000:5100]"
   ]
  },
  {
   "cell_type": "markdown",
   "metadata": {
    "id": "U7b1FDLHqlrL"
   },
   "source": [
    "The following function will learn the mapping from English to French. The idea is to build two matrices $X_{\\text{en}}$ and $X_{\\text{fr}}$, and to find a mapping $M$ that minimizes $||X_{\\text{en}} W - X_{\\text{fr}} ||_2$. In numpy, this mapping can be obtained by using the `numpy.linalg.lstsq` function."
   ]
  },
  {
   "cell_type": "code",
   "execution_count": 27,
   "metadata": {
    "id": "yU_BX6UvqlrL"
   },
   "outputs": [],
   "source": [
    "def align(word_vectors_en, word_vectors_fr, lexicon):\n",
    "    '''\n",
    "    Parameters:\n",
    "    word_vectors_en(dict: string -> np.array): English word vectors\n",
    "    word_vectors_en(dict: string -> np.array): French word vectors\n",
    "    lexicon(list of pairs of string): bilingual training lexicon\n",
    "\n",
    "    Returns\n",
    "    mapping(np.array): the mapping from English to French vectors\n",
    "    '''\n",
    "    x_en, x_fr = [], []\n",
    "    ##########################################################################\n",
    "    #                      TODO: Implement this function                     #\n",
    "    ##########################################################################\n",
    "    # Replace \"pass\" statement with your code\n",
    "    for couple in lexicon:\n",
    "        en_word, fr_word = couple\n",
    "        x_en.append(word_vectors_en[en_word])\n",
    "        x_fr.append(word_vectors_fr[fr_word])\n",
    "    mapping, _, _, _ = np.linalg.lstsq(x_en, x_fr, rcond=None)\n",
    "    ##########################################################################\n",
    "    #                            END OF YOUR CODE                            #\n",
    "    ##########################################################################\n",
    "    return mapping"
   ]
  },
  {
   "cell_type": "code",
   "execution_count": 28,
   "metadata": {},
   "outputs": [
    {
     "data": {
      "text/plain": [
       "array([[-0.06183285, -0.01071552,  0.00175985, ..., -0.01107046,\n",
       "         0.01629405, -0.01644996],\n",
       "       [-0.01655313, -0.02930488,  0.09810107, ..., -0.01744702,\n",
       "        -0.02848298,  0.02070179],\n",
       "       [-0.01970861, -0.0147154 ,  0.01231819, ...,  0.03036093,\n",
       "        -0.00209909, -0.00944313],\n",
       "       ...,\n",
       "       [ 0.0669847 ,  0.02351181,  0.02041902, ...,  0.00886501,\n",
       "         0.08635366,  0.00595836],\n",
       "       [ 0.01936122,  0.00552446,  0.01234669, ..., -0.00623332,\n",
       "        -0.05116348,  0.05634361],\n",
       "       [ 0.00530333, -0.03424679, -0.03369923, ..., -0.01344391,\n",
       "        -0.00051053, -0.00491391]])"
      ]
     },
     "execution_count": 28,
     "metadata": {},
     "output_type": "execute_result"
    }
   ],
   "source": [
    "mapping = align(word_vectors_en, word_vectors_fr, lexicon)\n",
    "mapping"
   ]
  },
  {
   "cell_type": "markdown",
   "metadata": {
    "id": "YnHaso-EqlrM"
   },
   "source": [
    "Given a mapping, a set of word English word vector and French word vectors, the next function will translate the English word to French. To do so, we apply the mapping on the English word, and retrieve the nearest neighbor of the obtained vector in the set of French word vectors. The translation is then the corresponding French word."
   ]
  },
  {
   "cell_type": "code",
   "execution_count": 30,
   "metadata": {
    "id": "muQ3jbSuqlrM"
   },
   "outputs": [],
   "source": [
    "def translate(word, word_vectors_en, word_vectors_fr, mapping):\n",
    "    '''\n",
    "    Parameters:\n",
    "    word(string): an English word\n",
    "    word_vectors_en(dict: string -> np.array): English word vectors\n",
    "    word_vectors_en(dict: string -> np.array): French word vectors\n",
    "    mapping(np.array): the mapping from English to French vectors\n",
    "\n",
    "    Returns\n",
    "    A string containing the translation of the English word\n",
    "    '''\n",
    "    ##########################################################################\n",
    "    #                      TODO: Implement this function                     #\n",
    "    ##########################################################################\n",
    "    # Replace \"pass\" statement with your code\n",
    "    best_score = -1.0\n",
    "    best_word = None\n",
    "    \n",
    "    fr_vec = word_vectors_en[word] @ mapping\n",
    "    for word in  word_vectors_fr.keys():\n",
    "        v = word_vectors_fr[word]\n",
    "        cos = cosine(fr_vec, v)\n",
    "    \n",
    "        if best_score < cos:\n",
    "            best_score = cos\n",
    "            best_word = word\n",
    "    ##########################################################################\n",
    "    #                            END OF YOUR CODE                            #\n",
    "    ##########################################################################\n",
    "    return best_word"
   ]
  },
  {
   "cell_type": "code",
   "execution_count": 31,
   "metadata": {},
   "outputs": [
    {
     "name": "stdout",
     "output_type": "stream",
     "text": [
      "homme\n",
      "machine\n",
      "apprentissage\n"
     ]
    }
   ],
   "source": [
    "print(translate(\"man\", word_vectors_en, word_vectors_fr, mapping))\n",
    "print(translate(\"machine\", word_vectors_en, word_vectors_fr, mapping))\n",
    "print(translate(\"learning\", word_vectors_en, word_vectors_fr, mapping))"
   ]
  },
  {
   "cell_type": "code",
   "execution_count": null,
   "metadata": {},
   "outputs": [],
   "source": []
  },
  {
   "cell_type": "markdown",
   "metadata": {
    "id": "oVz2ZMYrqlrM"
   },
   "source": [
    "Finally, let's implement a function to evaluate this method on the validation lexicon:"
   ]
  },
  {
   "cell_type": "code",
   "execution_count": 33,
   "metadata": {
    "id": "H2ZOJKEfqlrM"
   },
   "outputs": [],
   "source": [
    "def evaluate(valid, word_vectors_en, word_vectors_fr, mapping):\n",
    "    '''\n",
    "    Parameters:\n",
    "    valid(a list of pairs of string): the validation lexicon\n",
    "    word_vectors_en(dict: string -> np.array): English word vectors\n",
    "    word_vectors_en(dict: string -> np.array): French word vectors\n",
    "    mapping(np.array): the mapping from English to French vectors\n",
    "\n",
    "    Returns\n",
    "    Accuracy(float): the accuracy on the validation lexicon\n",
    "    '''\n",
    "    acc, n = 0.0, 0\n",
    "    correct_pred = 0\n",
    "    ##########################################################################\n",
    "    #                      TODO: Implement this function                     #\n",
    "    ##########################################################################\n",
    "    # Replace \"pass\" statement with your code\n",
    "    for couple in valid:\n",
    "        n += 1\n",
    "        en_word, fr_word = couple\n",
    "        pred_fr_word = translate(en_word, word_vectors_en, word_vectors_fr, mapping)\n",
    "\n",
    "        if fr_word == pred_fr_word:\n",
    "            correct_pred += 1\n",
    "    acc = correct_pred / n\n",
    "    ##########################################################################\n",
    "    #                            END OF YOUR CODE                            #\n",
    "    ##########################################################################\n",
    "    return acc"
   ]
  },
  {
   "cell_type": "code",
   "execution_count": 34,
   "metadata": {},
   "outputs": [
    {
     "data": {
      "text/plain": [
       "0.64"
      ]
     },
     "execution_count": 34,
     "metadata": {},
     "output_type": "execute_result"
    }
   ],
   "source": [
    "evaluate(valid, word_vectors_en, word_vectors_fr, mapping)"
   ]
  },
  {
   "cell_type": "code",
   "execution_count": null,
   "metadata": {},
   "outputs": [],
   "source": []
  }
 ],
 "metadata": {
  "colab": {
   "provenance": []
  },
  "kernelspec": {
   "display_name": "Python 3 (ipykernel)",
   "language": "python",
   "name": "python3"
  },
  "language_info": {
   "codemirror_mode": {
    "name": "ipython",
    "version": 3
   },
   "file_extension": ".py",
   "mimetype": "text/x-python",
   "name": "python",
   "nbconvert_exporter": "python",
   "pygments_lexer": "ipython3",
   "version": "3.11.5"
  }
 },
 "nbformat": 4,
 "nbformat_minor": 4
}
