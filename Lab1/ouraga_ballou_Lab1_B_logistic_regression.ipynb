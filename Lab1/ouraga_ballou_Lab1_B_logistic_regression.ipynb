{
 "cells": [
  {
   "cell_type": "markdown",
   "metadata": {
    "id": "E6295bUoqSbf"
   },
   "source": [
    "# (B) Logistic Regression Model"
   ]
  },
  {
   "cell_type": "markdown",
   "metadata": {
    "id": "p5uCE1MSm7br"
   },
   "source": [
    "In this second part of the lab, we will implement a language identifier trained on the same data, but using Logistic Regression instead of Naive Bayes."
   ]
  },
  {
   "cell_type": "code",
   "execution_count": 5,
   "metadata": {
    "id": "tnQyS9w9m7bu"
   },
   "outputs": [],
   "source": [
    "import io, sys, math\n",
    "import numpy as np\n",
    "from collections import defaultdict\n",
    "from tqdm.notebook import tqdm\n",
    "import random"
   ]
  },
  {
   "cell_type": "markdown",
   "metadata": {
    "id": "SqHxJJa7m7bv"
   },
   "source": [
    "This function is used to build the dictionary, or vocabulary, which is a mapping from strings (or words) to integers (or indices). This will allow to build vector representations of documents."
   ]
  },
  {
   "cell_type": "code",
   "execution_count": 7,
   "metadata": {
    "id": "-vXdFjspm7bv"
   },
   "outputs": [],
   "source": [
    "def build_dict(filename, threshold=1):\n",
    "    fin = io.open(filename, 'r', encoding='utf-8')\n",
    "    word_dict, label_dict = {}, {}\n",
    "    counts = defaultdict(lambda: 0)\n",
    "    for line in fin:\n",
    "        tokens = line.split()\n",
    "        label = tokens[0]\n",
    "\n",
    "        if not label in label_dict:\n",
    "            label_dict[label] = len(label_dict)\n",
    "\n",
    "        for w in tokens[1:]:\n",
    "            counts[w] += 1\n",
    "\n",
    "    for k, v in counts.items():\n",
    "        if v > threshold:\n",
    "            word_dict[k] = len(word_dict)\n",
    "    return word_dict, label_dict"
   ]
  },
  {
   "cell_type": "markdown",
   "metadata": {
    "id": "5nIdAGsum7bw"
   },
   "source": [
    "This function is used to load the training dataset, and build vector representations of the training examples. In particular, a document or sentence is represented as a bag of words. Each example correspond to a sparse vector ` x` of dimension `V`, where `V` is the size of the vocabulary. The element `j` of the vector `x` is the number of times the word `j` appears in the document."
   ]
  },
  {
   "cell_type": "code",
   "execution_count": 9,
   "metadata": {
    "id": "HgcK2pRrm7bw"
   },
   "outputs": [],
   "source": [
    "def load_data(filename, word_dict, label_dict):\n",
    "    fin = io.open(filename, 'r', encoding='utf-8')\n",
    "    data = []\n",
    "    dim = len(word_dict)\n",
    "    for line in fin:\n",
    "        tokens = line.split()\n",
    "        label = tokens[0]\n",
    "\n",
    "        yi = label_dict[label]\n",
    "        xi = np.zeros(dim)\n",
    "        for word in tokens[1:]:\n",
    "            if word in word_dict:\n",
    "                wid = word_dict[word]\n",
    "                xi[wid] += 1.0\n",
    "        data.append((yi, xi))\n",
    "    return data"
   ]
  },
  {
   "cell_type": "code",
   "execution_count": 10,
   "metadata": {},
   "outputs": [],
   "source": [
    "word_dict, label_dict = build_dict(\"train1.txt\")\n",
    "train_data = load_data(\"train1.txt\", word_dict, label_dict)"
   ]
  },
  {
   "cell_type": "code",
   "execution_count": 11,
   "metadata": {
    "scrolled": true
   },
   "outputs": [
    {
     "data": {
      "text/plain": [
       "[(0, array([1., 1., 1., ..., 0., 0., 0.])),\n",
       " (0, array([0., 0., 0., ..., 0., 0., 0.])),\n",
       " (1, array([0., 0., 0., ..., 0., 0., 0.])),\n",
       " (0, array([0., 0., 0., ..., 0., 0., 0.])),\n",
       " (2, array([0., 0., 0., ..., 0., 0., 0.]))]"
      ]
     },
     "execution_count": 11,
     "metadata": {},
     "output_type": "execute_result"
    }
   ],
   "source": [
    "train_data[0:5]"
   ]
  },
  {
   "cell_type": "code",
   "execution_count": 12,
   "metadata": {},
   "outputs": [
    {
     "name": "stdout",
     "output_type": "stream",
     "text": [
      "(5826, 1)\n",
      "(10, 5826)\n"
     ]
    }
   ],
   "source": [
    "y,x = train_data[0]\n",
    "x = x.reshape(-1,1)\n",
    "print(x.shape)\n",
    "\n",
    "nlabels = len(label_dict)\n",
    "\n",
    "dim = len(word_dict)\n",
    "w = np.zeros([nlabels, dim])\n",
    "print(w.shape)"
   ]
  },
  {
   "cell_type": "markdown",
   "metadata": {
    "id": "DgKPoEmQm7bx"
   },
   "source": [
    "First, let's implement the softmax function. Don't forget numerical stability!"
   ]
  },
  {
   "cell_type": "code",
   "execution_count": 14,
   "metadata": {
    "id": "XXZcrv0im7bx"
   },
   "outputs": [],
   "source": [
    "def softmax(x):\n",
    "  ##########################################################################\n",
    "  #                      TODO: Implement this function                     #\n",
    "  ##########################################################################\n",
    "    exp = np.exp(x - np.max(x))\n",
    "  ##########################################################################\n",
    "  #                            END OF YOUR CODE                            #\n",
    "  ##########################################################################\n",
    "    return exp / sum(exp)"
   ]
  },
  {
   "cell_type": "code",
   "execution_count": 15,
   "metadata": {},
   "outputs": [],
   "source": [
    "def one_hot(label):\n",
    "    label_Encod = np.zeros((10,1))\n",
    "    label_Encod[label] = 1\n",
    "    return label_Encod"
   ]
  },
  {
   "cell_type": "markdown",
   "metadata": {
    "id": "_1YF7GrOm7bx"
   },
   "source": [
    "Now, let's implement the main training loop, by using stochastic gradient descent. The function will iterate over the examples of the training set. For each example, we will first compute the loss, before computing the gradient and performing the update."
   ]
  },
  {
   "cell_type": "code",
   "execution_count": 17,
   "metadata": {
    "id": "MZ8dsdb8m7bx"
   },
   "outputs": [],
   "source": [
    "def sgd(w, data, niter):\n",
    "\n",
    "    lr = 0.01\n",
    "    target = []\n",
    "    nlabels, dim = w.shape\n",
    "\n",
    "    for iter in range(niter):\n",
    "      ##########################################################################\n",
    "      #                      TODO: Implement this function                     #\n",
    "      ##########################################################################\n",
    "        np.random.shuffle(data)\n",
    "        loss = 0.0\n",
    "        for example in data:\n",
    "            label, x = example\n",
    "            x = x.reshape(-1,1)\n",
    "            \n",
    "            label_Encod = one_hot(label)\n",
    "            prediction = softmax(w@x)\n",
    "            loss += -label_Encod * np.log(prediction)\n",
    "\n",
    "            grad =  -(label_Encod - prediction)  @ x.reshape(1,-1)\n",
    "\n",
    "            w = w - lr * grad\n",
    "            \n",
    "        average_loss = loss / len(data)\n",
    "        print(f'Train loss: {sum(average_loss)[0]}')\n",
    "      ##########################################################################\n",
    "      #                            END OF YOUR CODE                            #\n",
    "      ##########################################################################\n",
    "    return w # Replace \"...\" statement with your code"
   ]
  },
  {
   "cell_type": "markdown",
   "metadata": {
    "id": "RfrLiyCTm7by"
   },
   "source": [
    "The next function will predict the most probable label corresponding to example `x`, given the trained classifier `w`."
   ]
  },
  {
   "cell_type": "code",
   "execution_count": 19,
   "metadata": {
    "id": "uMHNaYB4m7by"
   },
   "outputs": [],
   "source": [
    "def predict(w, x):\n",
    "  ##########################################################################\n",
    "  #                      TODO: Implement this function                     #\n",
    "  ##########################################################################\n",
    "    prod = w@x.T\n",
    "    prod = prod.T\n",
    "    pred = softmax(prod)\n",
    "  ##########################################################################\n",
    "  #                            END OF YOUR CODE                            #\n",
    "  ##########################################################################\n",
    "    return np.argmax(pred)"
   ]
  },
  {
   "cell_type": "markdown",
   "metadata": {
    "id": "R897_5jJm7by"
   },
   "source": [
    "Finally, this function will compute the accuracy of a trained classifier `w` on a validation set."
   ]
  },
  {
   "cell_type": "code",
   "execution_count": 21,
   "metadata": {
    "id": "2I9tYxCBm7by"
   },
   "outputs": [],
   "source": [
    "def compute_accuracy(w, valid_data):\n",
    "  ##########################################################################\n",
    "  #                      TODO: Implement this function                     #\n",
    "  ##########################################################################\n",
    "    correct_pred = 0.0\n",
    "    for example in valid_data:\n",
    "        label, x = example\n",
    "        pred = predict(w, x)\n",
    "        \n",
    "        if label == pred:\n",
    "            correct_pred += 1\n",
    "    accuracy = correct_pred / len(valid_data)\n",
    "  ##########################################################################\n",
    "  #                            END OF YOUR CODE                            #\n",
    "  ##########################################################################\n",
    "    return accuracy"
   ]
  },
  {
   "cell_type": "code",
   "execution_count": 22,
   "metadata": {
    "colab": {
     "base_uri": "https://localhost:8080/",
     "height": 119,
     "referenced_widgets": [
      "8160219b08744de0ac98939651e0ffc4",
      "245f40680d4449cca9c27195531dd9f7",
      "8455add820404f5c956d69b555db5220",
      "5d04ccbe01b54a24b2e54f71534ddd99",
      "5cc69669e6af483e982d4907f67a1c6a",
      "e6ffc075c3f6461fae9746437d6064c9",
      "43fd682975804e62beecc55c8b1ac9a0",
      "34db7fbe2bff45a3a75808e8810aafd9",
      "ec52a54607514da7843fd506fe889a9d",
      "1b15e60cde8e4ac688689a7aa1e43426",
      "155b2299d2c2402b88e30eec737c1456"
     ]
    },
    "id": "0ynmky3nm7by",
    "outputId": "2d78bb4d-501b-494f-9dac-23b6d15376cd"
   },
   "outputs": [
    {
     "name": "stdout",
     "output_type": "stream",
     "text": [
      "\n",
      "** Logistic Regression **\n",
      "\n",
      "Train loss: 1.6426581044767619\n",
      "Train loss: 1.1330757226126966\n",
      "Train loss: 0.9304015185976311\n",
      "Train loss: 0.8115719503720908\n",
      "Train loss: 0.7304272428071185\n",
      "Train loss: 0.6701326812742345\n",
      "Train loss: 0.6228917524737739\n",
      "Train loss: 0.5845687220607583\n",
      "Train loss: 0.5525894166922549\n",
      "Train loss: 0.5253933636237751\n",
      "Train loss: 0.5018556784792395\n",
      "Train loss: 0.48122307330479147\n",
      "Train loss: 0.46295061903194523\n",
      "Train loss: 0.44659260795727496\n",
      "Train loss: 0.43186097508519355\n",
      "Train loss: 0.41850014035652067\n",
      "Train loss: 0.406285784018739\n",
      "Train loss: 0.3950833122370528\n",
      "Train loss: 0.3847559886652884\n",
      "Train loss: 0.3751790452509432\n",
      "Train loss: 0.3662836874336158\n",
      "Train loss: 0.35798753819652096\n",
      "Train loss: 0.350222305055243\n",
      "Train loss: 0.3429359985789215\n",
      "Train loss: 0.3360826486935626\n",
      "\n",
      "Validation accuracy: 0.913\n",
      "\n"
     ]
    }
   ],
   "source": [
    "print(\"\")\n",
    "print(\"** Logistic Regression **\")\n",
    "print(\"\")\n",
    "\n",
    "word_dict, label_dict = build_dict(\"train1.txt\")\n",
    "train_data = load_data(\"train1.txt\", word_dict, label_dict)\n",
    "valid_data = load_data(\"valid1.txt\", word_dict, label_dict)\n",
    "\n",
    "nlabels = len(label_dict)\n",
    "\n",
    "dim = len(word_dict)\n",
    "w = np.zeros([nlabels, dim])\n",
    "w = sgd(w, train_data, 25)\n",
    "print(\"\")\n",
    "print(\"Validation accuracy: %.3f\" % compute_accuracy(w, valid_data))\n",
    "print(\"\")"
   ]
  },
  {
   "cell_type": "code",
   "execution_count": null,
   "metadata": {},
   "outputs": [],
   "source": []
  },
  {
   "cell_type": "markdown",
   "metadata": {
    "id": "LGzql9pFul9o"
   },
   "source": [
    "# Now, it is your turn, try to do it with train2.txt and valid2.txt.\n"
   ]
  },
  {
   "cell_type": "code",
   "execution_count": 25,
   "metadata": {
    "id": "d_T6TXKJtuMr"
   },
   "outputs": [
    {
     "name": "stdout",
     "output_type": "stream",
     "text": [
      "\n",
      "** Logistic Regression **\n",
      "\n",
      "Train loss: 0.8431747630480024\n",
      "Train loss: 0.4677757238988976\n",
      "Train loss: 0.3764932188370059\n",
      "Train loss: 0.3270151174209174\n",
      "Train loss: 0.29435619777211763\n",
      "Train loss: 0.270525267094896\n",
      "Train loss: 0.25206349603433087\n",
      "Train loss: 0.23715646896254172\n",
      "Train loss: 0.2247475866689033\n",
      "Train loss: 0.2141914782597832\n",
      "Train loss: 0.20505340546061165\n",
      "Train loss: 0.19702682986086228\n",
      "Train loss: 0.1898979125824302\n",
      "Train loss: 0.18350446357980016\n",
      "Train loss: 0.1777303938107671\n",
      "Train loss: 0.17247353342480062\n",
      "Train loss: 0.16764617560309159\n",
      "Train loss: 0.1632193817267673\n",
      "Train loss: 0.1591071030928158\n",
      "Train loss: 0.1552925405264963\n",
      "Train loss: 0.1517422478287347\n",
      "Train loss: 0.14841702368544657\n",
      "Train loss: 0.14529604131341795\n",
      "Train loss: 0.14235557511535332\n",
      "Train loss: 0.13958171219019622\n",
      "\n",
      "Validation accuracy: 0.966\n",
      "\n"
     ]
    }
   ],
   "source": [
    "#Write your code here.\n",
    "print(\"\")\n",
    "print(\"** Logistic Regression **\")\n",
    "print(\"\")\n",
    "\n",
    "word_dict, label_dict = build_dict(\"train2.txt\")\n",
    "train_data = load_data(\"train2.txt\", word_dict, label_dict)\n",
    "valid_data = load_data(\"valid2.txt\", word_dict, label_dict)\n",
    "\n",
    "nlabels = len(label_dict)\n",
    "\n",
    "dim = len(word_dict)\n",
    "w = np.zeros([nlabels, dim])\n",
    "w = sgd(w, train_data, 25)\n",
    "print(\"\")\n",
    "print(\"Validation accuracy: %.3f\" % compute_accuracy(w, valid_data))\n",
    "print(\"\")"
   ]
  },
  {
   "cell_type": "code",
   "execution_count": null,
   "metadata": {},
   "outputs": [],
   "source": []
  }
 ],
 "metadata": {
  "colab": {
   "provenance": []
  },
  "kernelspec": {
   "display_name": "Python 3 (ipykernel)",
   "language": "python",
   "name": "python3"
  },
  "language_info": {
   "codemirror_mode": {
    "name": "ipython",
    "version": 3
   },
   "file_extension": ".py",
   "mimetype": "text/x-python",
   "name": "python",
   "nbconvert_exporter": "python",
   "pygments_lexer": "ipython3",
   "version": "3.11.5"
  },
  "widgets": {
   "application/vnd.jupyter.widget-state+json": {
    "155b2299d2c2402b88e30eec737c1456": {
     "model_module": "@jupyter-widgets/controls",
     "model_module_version": "1.5.0",
     "model_name": "DescriptionStyleModel",
     "state": {
      "_model_module": "@jupyter-widgets/controls",
      "_model_module_version": "1.5.0",
      "_model_name": "DescriptionStyleModel",
      "_view_count": null,
      "_view_module": "@jupyter-widgets/base",
      "_view_module_version": "1.2.0",
      "_view_name": "StyleView",
      "description_width": ""
     }
    },
    "1b15e60cde8e4ac688689a7aa1e43426": {
     "model_module": "@jupyter-widgets/base",
     "model_module_version": "1.2.0",
     "model_name": "LayoutModel",
     "state": {
      "_model_module": "@jupyter-widgets/base",
      "_model_module_version": "1.2.0",
      "_model_name": "LayoutModel",
      "_view_count": null,
      "_view_module": "@jupyter-widgets/base",
      "_view_module_version": "1.2.0",
      "_view_name": "LayoutView",
      "align_content": null,
      "align_items": null,
      "align_self": null,
      "border": null,
      "bottom": null,
      "display": null,
      "flex": null,
      "flex_flow": null,
      "grid_area": null,
      "grid_auto_columns": null,
      "grid_auto_flow": null,
      "grid_auto_rows": null,
      "grid_column": null,
      "grid_gap": null,
      "grid_row": null,
      "grid_template_areas": null,
      "grid_template_columns": null,
      "grid_template_rows": null,
      "height": null,
      "justify_content": null,
      "justify_items": null,
      "left": null,
      "margin": null,
      "max_height": null,
      "max_width": null,
      "min_height": null,
      "min_width": null,
      "object_fit": null,
      "object_position": null,
      "order": null,
      "overflow": null,
      "overflow_x": null,
      "overflow_y": null,
      "padding": null,
      "right": null,
      "top": null,
      "visibility": null,
      "width": null
     }
    },
    "245f40680d4449cca9c27195531dd9f7": {
     "model_module": "@jupyter-widgets/controls",
     "model_module_version": "1.5.0",
     "model_name": "HTMLModel",
     "state": {
      "_dom_classes": [],
      "_model_module": "@jupyter-widgets/controls",
      "_model_module_version": "1.5.0",
      "_model_name": "HTMLModel",
      "_view_count": null,
      "_view_module": "@jupyter-widgets/controls",
      "_view_module_version": "1.5.0",
      "_view_name": "HTMLView",
      "description": "",
      "description_tooltip": null,
      "layout": "IPY_MODEL_e6ffc075c3f6461fae9746437d6064c9",
      "placeholder": "​",
      "style": "IPY_MODEL_43fd682975804e62beecc55c8b1ac9a0",
      "value": "Epoch 1/5 Loss 11.934367527601534:   3%"
     }
    },
    "34db7fbe2bff45a3a75808e8810aafd9": {
     "model_module": "@jupyter-widgets/base",
     "model_module_version": "1.2.0",
     "model_name": "LayoutModel",
     "state": {
      "_model_module": "@jupyter-widgets/base",
      "_model_module_version": "1.2.0",
      "_model_name": "LayoutModel",
      "_view_count": null,
      "_view_module": "@jupyter-widgets/base",
      "_view_module_version": "1.2.0",
      "_view_name": "LayoutView",
      "align_content": null,
      "align_items": null,
      "align_self": null,
      "border": null,
      "bottom": null,
      "display": null,
      "flex": null,
      "flex_flow": null,
      "grid_area": null,
      "grid_auto_columns": null,
      "grid_auto_flow": null,
      "grid_auto_rows": null,
      "grid_column": null,
      "grid_gap": null,
      "grid_row": null,
      "grid_template_areas": null,
      "grid_template_columns": null,
      "grid_template_rows": null,
      "height": null,
      "justify_content": null,
      "justify_items": null,
      "left": null,
      "margin": null,
      "max_height": null,
      "max_width": null,
      "min_height": null,
      "min_width": null,
      "object_fit": null,
      "object_position": null,
      "order": null,
      "overflow": null,
      "overflow_x": null,
      "overflow_y": null,
      "padding": null,
      "right": null,
      "top": null,
      "visibility": null,
      "width": null
     }
    },
    "43fd682975804e62beecc55c8b1ac9a0": {
     "model_module": "@jupyter-widgets/controls",
     "model_module_version": "1.5.0",
     "model_name": "DescriptionStyleModel",
     "state": {
      "_model_module": "@jupyter-widgets/controls",
      "_model_module_version": "1.5.0",
      "_model_name": "DescriptionStyleModel",
      "_view_count": null,
      "_view_module": "@jupyter-widgets/base",
      "_view_module_version": "1.2.0",
      "_view_name": "StyleView",
      "description_width": ""
     }
    },
    "5cc69669e6af483e982d4907f67a1c6a": {
     "model_module": "@jupyter-widgets/base",
     "model_module_version": "1.2.0",
     "model_name": "LayoutModel",
     "state": {
      "_model_module": "@jupyter-widgets/base",
      "_model_module_version": "1.2.0",
      "_model_name": "LayoutModel",
      "_view_count": null,
      "_view_module": "@jupyter-widgets/base",
      "_view_module_version": "1.2.0",
      "_view_name": "LayoutView",
      "align_content": null,
      "align_items": null,
      "align_self": null,
      "border": null,
      "bottom": null,
      "display": null,
      "flex": null,
      "flex_flow": null,
      "grid_area": null,
      "grid_auto_columns": null,
      "grid_auto_flow": null,
      "grid_auto_rows": null,
      "grid_column": null,
      "grid_gap": null,
      "grid_row": null,
      "grid_template_areas": null,
      "grid_template_columns": null,
      "grid_template_rows": null,
      "height": null,
      "justify_content": null,
      "justify_items": null,
      "left": null,
      "margin": null,
      "max_height": null,
      "max_width": null,
      "min_height": null,
      "min_width": null,
      "object_fit": null,
      "object_position": null,
      "order": null,
      "overflow": null,
      "overflow_x": null,
      "overflow_y": null,
      "padding": null,
      "right": null,
      "top": null,
      "visibility": null,
      "width": null
     }
    },
    "5d04ccbe01b54a24b2e54f71534ddd99": {
     "model_module": "@jupyter-widgets/controls",
     "model_module_version": "1.5.0",
     "model_name": "HTMLModel",
     "state": {
      "_dom_classes": [],
      "_model_module": "@jupyter-widgets/controls",
      "_model_module_version": "1.5.0",
      "_model_name": "HTMLModel",
      "_view_count": null,
      "_view_module": "@jupyter-widgets/controls",
      "_view_module_version": "1.5.0",
      "_view_name": "HTMLView",
      "description": "",
      "description_tooltip": null,
      "layout": "IPY_MODEL_1b15e60cde8e4ac688689a7aa1e43426",
      "placeholder": "​",
      "style": "IPY_MODEL_155b2299d2c2402b88e30eec737c1456",
      "value": " 305/10000 [00:02&lt;01:02, 154.50it/s]"
     }
    },
    "8160219b08744de0ac98939651e0ffc4": {
     "model_module": "@jupyter-widgets/controls",
     "model_module_version": "1.5.0",
     "model_name": "HBoxModel",
     "state": {
      "_dom_classes": [],
      "_model_module": "@jupyter-widgets/controls",
      "_model_module_version": "1.5.0",
      "_model_name": "HBoxModel",
      "_view_count": null,
      "_view_module": "@jupyter-widgets/controls",
      "_view_module_version": "1.5.0",
      "_view_name": "HBoxView",
      "box_style": "",
      "children": [
       "IPY_MODEL_245f40680d4449cca9c27195531dd9f7",
       "IPY_MODEL_8455add820404f5c956d69b555db5220",
       "IPY_MODEL_5d04ccbe01b54a24b2e54f71534ddd99"
      ],
      "layout": "IPY_MODEL_5cc69669e6af483e982d4907f67a1c6a"
     }
    },
    "8455add820404f5c956d69b555db5220": {
     "model_module": "@jupyter-widgets/controls",
     "model_module_version": "1.5.0",
     "model_name": "FloatProgressModel",
     "state": {
      "_dom_classes": [],
      "_model_module": "@jupyter-widgets/controls",
      "_model_module_version": "1.5.0",
      "_model_name": "FloatProgressModel",
      "_view_count": null,
      "_view_module": "@jupyter-widgets/controls",
      "_view_module_version": "1.5.0",
      "_view_name": "ProgressView",
      "bar_style": "",
      "description": "",
      "description_tooltip": null,
      "layout": "IPY_MODEL_34db7fbe2bff45a3a75808e8810aafd9",
      "max": 10000,
      "min": 0,
      "orientation": "horizontal",
      "style": "IPY_MODEL_ec52a54607514da7843fd506fe889a9d",
      "value": 306
     }
    },
    "e6ffc075c3f6461fae9746437d6064c9": {
     "model_module": "@jupyter-widgets/base",
     "model_module_version": "1.2.0",
     "model_name": "LayoutModel",
     "state": {
      "_model_module": "@jupyter-widgets/base",
      "_model_module_version": "1.2.0",
      "_model_name": "LayoutModel",
      "_view_count": null,
      "_view_module": "@jupyter-widgets/base",
      "_view_module_version": "1.2.0",
      "_view_name": "LayoutView",
      "align_content": null,
      "align_items": null,
      "align_self": null,
      "border": null,
      "bottom": null,
      "display": null,
      "flex": null,
      "flex_flow": null,
      "grid_area": null,
      "grid_auto_columns": null,
      "grid_auto_flow": null,
      "grid_auto_rows": null,
      "grid_column": null,
      "grid_gap": null,
      "grid_row": null,
      "grid_template_areas": null,
      "grid_template_columns": null,
      "grid_template_rows": null,
      "height": null,
      "justify_content": null,
      "justify_items": null,
      "left": null,
      "margin": null,
      "max_height": null,
      "max_width": null,
      "min_height": null,
      "min_width": null,
      "object_fit": null,
      "object_position": null,
      "order": null,
      "overflow": null,
      "overflow_x": null,
      "overflow_y": null,
      "padding": null,
      "right": null,
      "top": null,
      "visibility": null,
      "width": null
     }
    },
    "ec52a54607514da7843fd506fe889a9d": {
     "model_module": "@jupyter-widgets/controls",
     "model_module_version": "1.5.0",
     "model_name": "ProgressStyleModel",
     "state": {
      "_model_module": "@jupyter-widgets/controls",
      "_model_module_version": "1.5.0",
      "_model_name": "ProgressStyleModel",
      "_view_count": null,
      "_view_module": "@jupyter-widgets/base",
      "_view_module_version": "1.2.0",
      "_view_name": "StyleView",
      "bar_color": null,
      "description_width": ""
     }
    }
   }
  }
 },
 "nbformat": 4,
 "nbformat_minor": 4
}
